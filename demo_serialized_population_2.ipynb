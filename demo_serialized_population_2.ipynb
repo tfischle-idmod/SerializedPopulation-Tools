{
 "cells": [
  {
   "cell_type": "markdown",
   "metadata": {},
   "source": [
    "# Serialized Population Demo"
   ]
  },
  {
   "cell_type": "markdown",
   "metadata": {},
   "source": [
    "## Motivation\n",
    "- Saves dtk state to file\n",
    "- Loads file and continues, e.g. burn-in"
   ]
  },
  {
   "cell_type": "markdown",
   "metadata": {},
   "source": [
    "## Configuration"
   ]
  },
  {
   "cell_type": "raw",
   "metadata": {},
   "source": [
    "{\n",
    "    ...\n",
    "    \"Serialization_Time_Steps\" : [\n",
    "          1,\n",
    "         10,\n",
    "         50\n",
    "    ],\n",
    "    \"Serialization_Type\" : \"TIMESTEP\"\n",
    "    ...\n",
    "}"
   ]
  },
  {
   "cell_type": "markdown",
   "metadata": {},
   "source": [
    "## Created Files\n",
    "- state-00001.dtk\n",
    "- state-00010.dtk\n",
    "- state-00050.dtk\n"
   ]
  },
  {
   "cell_type": "markdown",
   "metadata": {},
   "source": [
    "## Load and Continue"
   ]
  },
  {
   "cell_type": "raw",
   "metadata": {},
   "source": [
    "...\n",
    "\"Serialized_Population_Filenames\": [\n",
    "            \"state-00050.dtk\"\n",
    "],\n",
    "\"Serialization_Type\" : \"TIMESTEP\"\n",
    "..."
   ]
  },
  {
   "cell_type": "markdown",
   "metadata": {},
   "source": [
    "## Manipulating a dtk File"
   ]
  },
  {
   "cell_type": "markdown",
   "metadata": {},
   "source": [
    "- file access, writing, reading, compression\n",
    "- https://github.com/InstituteforDiseaseModeling/DtkTrunk/tree/master/Scripts/serialization \n"
   ]
  },
  {
   "cell_type": "markdown",
   "metadata": {},
   "source": [
    "## Pycharm Demo\n",
    "- Run eradication.exe and generate .dtk file at time step 1\n",
    "- Open dtk file in Pycharm\n",
    "- Show node content in debugger"
   ]
  },
  {
   "cell_type": "markdown",
   "metadata": {},
   "source": [
    "## Demo\n",
    "- Load dtk file at timestep 1\n",
    "- Infect some indiviuals\n",
    "- Save dtk file\n",
    "- Start simulation with created dtk file\n",
    "- https://github.com/tfischle-idmod/SerializedPopulation-Tools"
   ]
  },
  {
   "cell_type": "code",
   "execution_count": 1,
   "metadata": {},
   "outputs": [
    {
     "data": {
      "text/html": [
       "<script type=\"text/javascript\">window.PlotlyConfig = {MathJaxConfig: 'local'};</script><script type=\"text/javascript\">if (window.MathJax) {MathJax.Hub.Config({SVG: {font: \"STIX-Web\"}});}</script><script>requirejs.config({paths: { 'plotly': ['https://cdn.plot.ly/plotly-latest.min']},});if(!window._Plotly) {require(['plotly'],function(plotly) {window._Plotly=plotly;});}</script>"
      ],
      "text/vnd.plotly.v1+html": [
       "<script type=\"text/javascript\">window.PlotlyConfig = {MathJaxConfig: 'local'};</script><script type=\"text/javascript\">if (window.MathJax) {MathJax.Hub.Config({SVG: {font: \"STIX-Web\"}});}</script><script>requirejs.config({paths: { 'plotly': ['https://cdn.plot.ly/plotly-latest.min']},});if(!window._Plotly) {require(['plotly'],function(plotly) {window._Plotly=plotly;});}</script>"
      ]
     },
     "metadata": {},
     "output_type": "display_data"
    }
   ],
   "source": [
    "import sys\n",
    "sys.path.append(\"C:\\\\Users\\\\tfischle\\\\Github\\\\SerializedPopulation-Tools\")\n",
    "import change_serialized_population as csp\n",
    "import pathlib\n",
    "import plotly\n",
    "import plotly.graph_objs as go\n",
    "\n",
    "plotly.offline.init_notebook_mode(connected=True)"
   ]
  },
  {
   "cell_type": "code",
   "execution_count": 2,
   "metadata": {},
   "outputs": [],
   "source": [
    "serialized_file = \"state-00001.dtk\"\n",
    "path = pathlib.PureWindowsPath(r\"C:\\Users\\tfischle\\Desktop\\Eradication_2.21\\output\", serialized_file)\n",
    "\n",
    "ser_pop = csp.SerializedPopulation(path)\n",
    "node_0 = ser_pop.nodes[0]"
   ]
  },
  {
   "cell_type": "code",
   "execution_count": 3,
   "metadata": {},
   "outputs": [
    {
     "data": {
      "application/vnd.plotly.v1+json": {
       "config": {
        "linkText": "Export to plot.ly",
        "plotlyServerURL": "https://plot.ly",
        "showLink": false
       },
       "data": [
        {
         "type": "histogram",
         "uid": "cda4907c-0c97-4b29-876c-c03184c7d5bf",
         "x": [
          37988.8,
          20759.1,
          1593.91,
          14567.1,
          4481.68,
          4730.6,
          15643.7,
          13805.1,
          419.549,
          2462.02,
          349.739,
          5713.91,
          2585.75,
          12925.5,
          26212.1,
          3445.06,
          7030.2,
          38.7369,
          8899.59,
          3196.41,
          17677.9,
          12252.1,
          6943.37,
          2731,
          5420.21,
          4198.85,
          1768.75,
          102.878,
          3696.87,
          3568.05,
          7095.76,
          6575.76,
          345.59,
          8663.25,
          2467.41,
          14890.4,
          8155.02,
          11580.1,
          737.543,
          12000.2,
          9741.55,
          20730.1,
          25408.3,
          26.7996,
          4614.2,
          31759.9,
          8697.05,
          4634.84,
          2945.57,
          4491.95,
          10085.6,
          5955.51,
          3537.46,
          37398,
          9694.21,
          7460.69,
          5168.61,
          1081.2,
          3286.72,
          17248.7,
          3171.51,
          8146.46,
          20188.9,
          7714.31,
          6833.13,
          4649.32,
          9973.99,
          6145.53,
          6106.41,
          2008.45,
          3010.71,
          6637.52,
          1083.17,
          7815.78,
          35053.3,
          14776.1,
          310.663,
          18384.9,
          20107.3,
          18000.5,
          5100.81,
          7568.76,
          14431.6,
          6929.39,
          20335.5,
          12101.1,
          59804.4,
          1517.9,
          16738.3,
          13786.2,
          8581.08,
          2804.69,
          1759.99,
          38529.3,
          1512.42,
          51307.5,
          1517.26,
          26673.1,
          2558.41,
          4844.14
         ]
        }
       ],
       "layout": {
        "bargap": 0.2,
        "bargroupgap": 0.1,
        "title": {
         "text": "m_age"
        },
        "xaxis": {
         "title": {
          "text": "age in days"
         }
        },
        "yaxis": {
         "title": {
          "text": "#individuals"
         }
        }
       }
      },
      "text/html": [
       "<div id=\"809d4414-c7bd-40c8-8119-fb2fea0d4066\" style=\"height: 525px; width: 100%;\" class=\"plotly-graph-div\"></div><script type=\"text/javascript\">require([\"plotly\"], function(Plotly) { window.PLOTLYENV=window.PLOTLYENV || {};window.PLOTLYENV.BASE_URL=\"https://plot.ly\";\n",
       "if (document.getElementById(\"809d4414-c7bd-40c8-8119-fb2fea0d4066\")) {\n",
       "    Plotly.newPlot(\"809d4414-c7bd-40c8-8119-fb2fea0d4066\", [{\"x\": [37988.8, 20759.1, 1593.91, 14567.1, 4481.68, 4730.6, 15643.7, 13805.1, 419.549, 2462.02, 349.739, 5713.91, 2585.75, 12925.5, 26212.1, 3445.06, 7030.2, 38.7369, 8899.59, 3196.41, 17677.9, 12252.1, 6943.37, 2731, 5420.21, 4198.85, 1768.75, 102.878, 3696.87, 3568.05, 7095.76, 6575.76, 345.59, 8663.25, 2467.41, 14890.4, 8155.02, 11580.1, 737.543, 12000.2, 9741.55, 20730.1, 25408.3, 26.7996, 4614.2, 31759.9, 8697.05, 4634.84, 2945.57, 4491.95, 10085.6, 5955.51, 3537.46, 37398, 9694.21, 7460.69, 5168.61, 1081.2, 3286.72, 17248.7, 3171.51, 8146.46, 20188.9, 7714.31, 6833.13, 4649.32, 9973.99, 6145.53, 6106.41, 2008.45, 3010.71, 6637.52, 1083.17, 7815.78, 35053.3, 14776.1, 310.663, 18384.9, 20107.3, 18000.5, 5100.81, 7568.76, 14431.6, 6929.39, 20335.5, 12101.1, 59804.4, 1517.9, 16738.3, 13786.2, 8581.08, 2804.69, 1759.99, 38529.3, 1512.42, 51307.5, 1517.26, 26673.1, 2558.41, 4844.14], \"type\": \"histogram\", \"uid\": \"5d739e81-22b8-410c-8442-157401005212\"}], {\"bargap\": 0.2, \"bargroupgap\": 0.1, \"title\": {\"text\": \"m_age\"}, \"xaxis\": {\"title\": {\"text\": \"age in days\"}}, \"yaxis\": {\"title\": {\"text\": \"#individuals\"}}}, {\"showLink\": false, \"linkText\": \"Export to plot.ly\", \"plotlyServerURL\": \"https://plot.ly\"}); \n",
       "}\n",
       "});</script><script type=\"text/javascript\">window.addEventListener(\"resize\", function(){if (document.getElementById(\"809d4414-c7bd-40c8-8119-fb2fea0d4066\")) {window._Plotly.Plots.resize(document.getElementById(\"809d4414-c7bd-40c8-8119-fb2fea0d4066\"));};})</script>"
      ],
      "text/vnd.plotly.v1+html": [
       "<div id=\"809d4414-c7bd-40c8-8119-fb2fea0d4066\" style=\"height: 525px; width: 100%;\" class=\"plotly-graph-div\"></div><script type=\"text/javascript\">require([\"plotly\"], function(Plotly) { window.PLOTLYENV=window.PLOTLYENV || {};window.PLOTLYENV.BASE_URL=\"https://plot.ly\";\n",
       "if (document.getElementById(\"809d4414-c7bd-40c8-8119-fb2fea0d4066\")) {\n",
       "    Plotly.newPlot(\"809d4414-c7bd-40c8-8119-fb2fea0d4066\", [{\"x\": [37988.8, 20759.1, 1593.91, 14567.1, 4481.68, 4730.6, 15643.7, 13805.1, 419.549, 2462.02, 349.739, 5713.91, 2585.75, 12925.5, 26212.1, 3445.06, 7030.2, 38.7369, 8899.59, 3196.41, 17677.9, 12252.1, 6943.37, 2731, 5420.21, 4198.85, 1768.75, 102.878, 3696.87, 3568.05, 7095.76, 6575.76, 345.59, 8663.25, 2467.41, 14890.4, 8155.02, 11580.1, 737.543, 12000.2, 9741.55, 20730.1, 25408.3, 26.7996, 4614.2, 31759.9, 8697.05, 4634.84, 2945.57, 4491.95, 10085.6, 5955.51, 3537.46, 37398, 9694.21, 7460.69, 5168.61, 1081.2, 3286.72, 17248.7, 3171.51, 8146.46, 20188.9, 7714.31, 6833.13, 4649.32, 9973.99, 6145.53, 6106.41, 2008.45, 3010.71, 6637.52, 1083.17, 7815.78, 35053.3, 14776.1, 310.663, 18384.9, 20107.3, 18000.5, 5100.81, 7568.76, 14431.6, 6929.39, 20335.5, 12101.1, 59804.4, 1517.9, 16738.3, 13786.2, 8581.08, 2804.69, 1759.99, 38529.3, 1512.42, 51307.5, 1517.26, 26673.1, 2558.41, 4844.14], \"type\": \"histogram\", \"uid\": \"5d739e81-22b8-410c-8442-157401005212\"}], {\"bargap\": 0.2, \"bargroupgap\": 0.1, \"title\": {\"text\": \"m_age\"}, \"xaxis\": {\"title\": {\"text\": \"age in days\"}}, \"yaxis\": {\"title\": {\"text\": \"#individuals\"}}}, {\"showLink\": false, \"linkText\": \"Export to plot.ly\", \"plotlyServerURL\": \"https://plot.ly\"}); \n",
       "}\n",
       "});</script><script type=\"text/javascript\">window.addEventListener(\"resize\", function(){if (document.getElementById(\"809d4414-c7bd-40c8-8119-fb2fea0d4066\")) {window._Plotly.Plots.resize(document.getElementById(\"809d4414-c7bd-40c8-8119-fb2fea0d4066\"));};})</script>"
      ]
     },
     "metadata": {},
     "output_type": "display_data"
    }
   ],
   "source": [
    "# plot m_age \n",
    "ind_age = csp.getAttributeValues(node_0.individualHumans, \"m_age\")   # m_age C++ name\n",
    "\n",
    "layout = go.Layout( title=\"m_age\", \n",
    "                           bargap=0.2, bargroupgap=0.1, \n",
    "                           xaxis=dict(title=\"age in days\"),\n",
    "                           yaxis=dict(title=\"#individuals\"))\n",
    "\n",
    "data = [go.Histogram(x=ind_age)]\n",
    "plotly.offline.iplot (\n",
    "    { 'data': data, \n",
    "      'layout': layout}\n",
    ")"
   ]
  },
  {
   "cell_type": "code",
   "execution_count": 4,
   "metadata": {},
   "outputs": [
    {
     "data": {
      "application/vnd.plotly.v1+json": {
       "config": {
        "linkText": "Export to plot.ly",
        "plotlyServerURL": "https://plot.ly",
        "showLink": false
       },
       "data": [
        {
         "type": "histogram",
         "uid": "56f6be44-b44e-49c0-bd84-67638461adb2",
         "x": []
        }
       ],
       "layout": {
        "bargap": 0.2,
        "bargroupgap": 0.1,
        "title": {
         "text": "m_age"
        },
        "xaxis": {
         "title": {
          "text": "age in days"
         }
        },
        "yaxis": {
         "title": {
          "text": "#individuals"
         }
        }
       }
      },
      "text/html": [
       "<div id=\"46a2a7a3-5584-4ef0-af5a-6e7f9bd2f913\" style=\"height: 525px; width: 100%;\" class=\"plotly-graph-div\"></div><script type=\"text/javascript\">require([\"plotly\"], function(Plotly) { window.PLOTLYENV=window.PLOTLYENV || {};window.PLOTLYENV.BASE_URL=\"https://plot.ly\";\n",
       "if (document.getElementById(\"46a2a7a3-5584-4ef0-af5a-6e7f9bd2f913\")) {\n",
       "    Plotly.newPlot(\"46a2a7a3-5584-4ef0-af5a-6e7f9bd2f913\", [{\"x\": [], \"type\": \"histogram\", \"uid\": \"53c67aad-9f6b-44dc-9b7e-101c77733cd5\"}], {\"bargap\": 0.2, \"bargroupgap\": 0.1, \"title\": {\"text\": \"m_age\"}, \"xaxis\": {\"title\": {\"text\": \"age in days\"}}, \"yaxis\": {\"title\": {\"text\": \"#individuals\"}}}, {\"showLink\": false, \"linkText\": \"Export to plot.ly\", \"plotlyServerURL\": \"https://plot.ly\"}); \n",
       "}\n",
       "});</script><script type=\"text/javascript\">window.addEventListener(\"resize\", function(){if (document.getElementById(\"46a2a7a3-5584-4ef0-af5a-6e7f9bd2f913\")) {window._Plotly.Plots.resize(document.getElementById(\"46a2a7a3-5584-4ef0-af5a-6e7f9bd2f913\"));};})</script>"
      ],
      "text/vnd.plotly.v1+html": [
       "<div id=\"46a2a7a3-5584-4ef0-af5a-6e7f9bd2f913\" style=\"height: 525px; width: 100%;\" class=\"plotly-graph-div\"></div><script type=\"text/javascript\">require([\"plotly\"], function(Plotly) { window.PLOTLYENV=window.PLOTLYENV || {};window.PLOTLYENV.BASE_URL=\"https://plot.ly\";\n",
       "if (document.getElementById(\"46a2a7a3-5584-4ef0-af5a-6e7f9bd2f913\")) {\n",
       "    Plotly.newPlot(\"46a2a7a3-5584-4ef0-af5a-6e7f9bd2f913\", [{\"x\": [], \"type\": \"histogram\", \"uid\": \"53c67aad-9f6b-44dc-9b7e-101c77733cd5\"}], {\"bargap\": 0.2, \"bargroupgap\": 0.1, \"title\": {\"text\": \"m_age\"}, \"xaxis\": {\"title\": {\"text\": \"age in days\"}}, \"yaxis\": {\"title\": {\"text\": \"#individuals\"}}}, {\"showLink\": false, \"linkText\": \"Export to plot.ly\", \"plotlyServerURL\": \"https://plot.ly\"}); \n",
       "}\n",
       "});</script><script type=\"text/javascript\">window.addEventListener(\"resize\", function(){if (document.getElementById(\"46a2a7a3-5584-4ef0-af5a-6e7f9bd2f913\")) {window._Plotly.Plots.resize(document.getElementById(\"46a2a7a3-5584-4ef0-af5a-6e7f9bd2f913\"));};})</script>"
      ]
     },
     "metadata": {},
     "output_type": "display_data"
    }
   ],
   "source": [
    "# plot number of infections\n",
    "fct = lambda ind: len(ind[\"infections\"]) > 0\n",
    "ind_values = csp.getAttributeValues(node_0.individualHumans, \"m_age\", filter_fct=fct)\n",
    "\n",
    "data = [go.Histogram(x=ind_values)]\n",
    "plotly.offline.iplot ({ 'data': data, 'layout': layout})"
   ]
  },
  {
   "cell_type": "code",
   "execution_count": 5,
   "metadata": {},
   "outputs": [
    {
     "name": "stdout",
     "output_type": "stream",
     "text": [
      "{\n",
      "    \"__class__\": \"Infection\",\n",
      "    \"suid\": {\n",
      "        \"id\": 31\n",
      "    },\n",
      "    \"duration\": 7,\n",
      "    \"total_duration\": 9.7328,\n",
      "    \"incubation_timer\": 0,\n",
      "    \"infectious_timer\": 9.7328,\n",
      "    \"infectiousness\": 3.5,\n",
      "    \"infectiousnessByRoute\": [],\n",
      "    \"StateChange\": 0,\n",
      "    \"infection_strain\": {\n",
      "        \"cladeID\": 0,\n",
      "        \"geneticID\": 0\n",
      "    },\n",
      "    \"m_is_symptomatic\": 1,\n",
      "    \"m_is_newly_symptomatic\": 0\n",
      "}\n"
     ]
    }
   ],
   "source": [
    "#print infection\n",
    "import json\n",
    "path_infection = pathlib.PureWindowsPath(r\"C:\\Users\\tfischle\\Desktop\\Eradication_2.21\\infection.json\")\n",
    "with open(path_infection, \"r\") as file:\n",
    "    infection = json.load(file)\n",
    "    print(json.dumps(infection, indent=4))"
   ]
  },
  {
   "cell_type": "code",
   "execution_count": 6,
   "metadata": {},
   "outputs": [],
   "source": [
    "# load infection and append it to several individuals\n",
    "ser_pop.addInfection(node_0,path_infection, lambda ind: ind[\"m_age\"] > 30000)"
   ]
  },
  {
   "cell_type": "code",
   "execution_count": 7,
   "metadata": {
    "scrolled": false
   },
   "outputs": [
    {
     "data": {
      "application/vnd.plotly.v1+json": {
       "config": {
        "linkText": "Export to plot.ly",
        "plotlyServerURL": "https://plot.ly",
        "showLink": false
       },
       "data": [
        {
         "type": "histogram",
         "uid": "e595aa03-bdef-42cb-847d-b8b280ce5cbd",
         "x": [
          37988.8,
          31759.9,
          37398,
          35053.3,
          59804.4,
          38529.3,
          51307.5
         ]
        }
       ],
       "layout": {
        "bargap": 0.2,
        "bargroupgap": 0.1,
        "title": {
         "text": "m_age"
        },
        "xaxis": {
         "title": {
          "text": "age in days"
         }
        },
        "yaxis": {
         "title": {
          "text": "#individuals"
         }
        }
       }
      },
      "text/html": [
       "<div id=\"b7d469a1-f3a2-4a1f-9a88-c063b9d7ad18\" style=\"height: 525px; width: 100%;\" class=\"plotly-graph-div\"></div><script type=\"text/javascript\">require([\"plotly\"], function(Plotly) { window.PLOTLYENV=window.PLOTLYENV || {};window.PLOTLYENV.BASE_URL=\"https://plot.ly\";\n",
       "if (document.getElementById(\"b7d469a1-f3a2-4a1f-9a88-c063b9d7ad18\")) {\n",
       "    Plotly.newPlot(\"b7d469a1-f3a2-4a1f-9a88-c063b9d7ad18\", [{\"x\": [37988.8, 31759.9, 37398, 35053.3, 59804.4, 38529.3, 51307.5], \"type\": \"histogram\", \"uid\": \"13ebc86e-ac46-4c00-8f01-d9bab2c653e8\"}], {\"bargap\": 0.2, \"bargroupgap\": 0.1, \"title\": {\"text\": \"m_age\"}, \"xaxis\": {\"title\": {\"text\": \"age in days\"}}, \"yaxis\": {\"title\": {\"text\": \"#individuals\"}}}, {\"showLink\": false, \"linkText\": \"Export to plot.ly\", \"plotlyServerURL\": \"https://plot.ly\"}); \n",
       "}\n",
       "});</script><script type=\"text/javascript\">window.addEventListener(\"resize\", function(){if (document.getElementById(\"b7d469a1-f3a2-4a1f-9a88-c063b9d7ad18\")) {window._Plotly.Plots.resize(document.getElementById(\"b7d469a1-f3a2-4a1f-9a88-c063b9d7ad18\"));};})</script>"
      ],
      "text/vnd.plotly.v1+html": [
       "<div id=\"b7d469a1-f3a2-4a1f-9a88-c063b9d7ad18\" style=\"height: 525px; width: 100%;\" class=\"plotly-graph-div\"></div><script type=\"text/javascript\">require([\"plotly\"], function(Plotly) { window.PLOTLYENV=window.PLOTLYENV || {};window.PLOTLYENV.BASE_URL=\"https://plot.ly\";\n",
       "if (document.getElementById(\"b7d469a1-f3a2-4a1f-9a88-c063b9d7ad18\")) {\n",
       "    Plotly.newPlot(\"b7d469a1-f3a2-4a1f-9a88-c063b9d7ad18\", [{\"x\": [37988.8, 31759.9, 37398, 35053.3, 59804.4, 38529.3, 51307.5], \"type\": \"histogram\", \"uid\": \"13ebc86e-ac46-4c00-8f01-d9bab2c653e8\"}], {\"bargap\": 0.2, \"bargroupgap\": 0.1, \"title\": {\"text\": \"m_age\"}, \"xaxis\": {\"title\": {\"text\": \"age in days\"}}, \"yaxis\": {\"title\": {\"text\": \"#individuals\"}}}, {\"showLink\": false, \"linkText\": \"Export to plot.ly\", \"plotlyServerURL\": \"https://plot.ly\"}); \n",
       "}\n",
       "});</script><script type=\"text/javascript\">window.addEventListener(\"resize\", function(){if (document.getElementById(\"b7d469a1-f3a2-4a1f-9a88-c063b9d7ad18\")) {window._Plotly.Plots.resize(document.getElementById(\"b7d469a1-f3a2-4a1f-9a88-c063b9d7ad18\"));};})</script>"
      ]
     },
     "metadata": {},
     "output_type": "display_data"
    }
   ],
   "source": [
    "# plot all individuals with an infection\n",
    "fct = lambda ind: len(ind[\"infections\"]) > 0\n",
    "ind_values = csp.getAttributeValues(node_0.individualHumans, \"m_age\", filter_fct=fct)\n",
    "\n",
    "data = [go.Histogram(x=ind_values)]\n",
    "plotly.offline.iplot ({ 'data': data, 'layout': layout})"
   ]
  },
  {
   "cell_type": "code",
   "execution_count": 8,
   "metadata": {},
   "outputs": [],
   "source": [
    "# Write to file\n",
    "serialized_output_file = \"dtk-added_infections.dtk\"\n",
    "output_path = pathlib.PureWindowsPath(r\"C:\\Users\\tfischle\\Desktop\\Eradication_2.21\", serialized_output_file)\n",
    "ser_pop.close()\n",
    "ser_pop.write(output_path)"
   ]
  },
  {
   "cell_type": "markdown",
   "metadata": {},
   "source": [
    "## Result\n",
    "- Simulation starts with 7 infected individuals"
   ]
  },
  {
   "cell_type": "markdown",
   "metadata": {},
   "source": [
    "## Outlook / Future Plans / Ideas\n",
    "- Distribute created population to several nodes\n",
    "- Modularization i.e save/load parts of simulation, load parts from configuration ( e.g. laraval habitats)\n",
    "- Create synthetic population\n",
    "- Creation of individuals/infections? \n",
    "- Backwards compatibility, e.g. new/renamed variables?\n",
    "- Testing"
   ]
  },
  {
   "cell_type": "code",
   "execution_count": null,
   "metadata": {},
   "outputs": [],
   "source": []
  }
 ],
 "metadata": {
  "kernelspec": {
   "display_name": "Python 3",
   "language": "python",
   "name": "python3"
  },
  "language_info": {
   "codemirror_mode": {
    "name": "ipython",
    "version": 3
   },
   "file_extension": ".py",
   "mimetype": "text/x-python",
   "name": "python",
   "nbconvert_exporter": "python",
   "pygments_lexer": "ipython3",
   "version": "3.6.5"
  }
 },
 "nbformat": 4,
 "nbformat_minor": 2
}
