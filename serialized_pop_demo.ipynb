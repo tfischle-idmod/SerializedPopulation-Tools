{
 "cells": [
  {
   "cell_type": "markdown",
   "metadata": {},
   "source": [
    "# Serialized Population Demo"
   ]
  },
  {
   "cell_type": "markdown",
   "metadata": {},
   "source": [
    "## Motivation\n",
    "- No need to redo burn-in\n",
    "    - saves dtk state to file\n",
    "    - loads file and continues"
   ]
  },
  {
   "cell_type": "markdown",
   "metadata": {},
   "source": [
    "## Configuration"
   ]
  },
  {
   "cell_type": "raw",
   "metadata": {},
   "source": [
    "{\n",
    "    ...\n",
    "    \"Serialization_Time_Steps\" : [\n",
    "         100,\n",
    "         300\n",
    "    ],\n",
    "    \"Serialization_Type\" : \"TIMESTEP\"\n",
    "    ...\n",
    "}"
   ]
  },
  {
   "cell_type": "markdown",
   "metadata": {},
   "source": [
    "## Created Files\n",
    "- state-00100.dtk\n",
    "- state-00300.dtk\n"
   ]
  },
  {
   "cell_type": "markdown",
   "metadata": {},
   "source": [
    "## Load and Continue"
   ]
  },
  {
   "cell_type": "raw",
   "metadata": {},
   "source": [
    "...\n",
    "\"Serialized_Population_Filenames\": [\n",
    "            \"state-00100.dtk\"\n",
    "],\n",
    "..."
   ]
  },
  {
   "cell_type": "markdown",
   "metadata": {},
   "source": [
    "## Manipulating a dtk file"
   ]
  },
  {
   "cell_type": "markdown",
   "metadata": {},
   "source": [
    "- file access, wrting, reading, compression\n",
    "- https://github.com/InstituteforDiseaseModeling/DtkTrunk/tree/master/Scripts/serialization \n"
   ]
  },
  {
   "cell_type": "markdown",
   "metadata": {},
   "source": [
    "## Pycharm Demo\n",
    "- run eradication.exe and generate .dtk file\n",
    "- Open dtk file in Pycharm\n",
    "- show node content in debugger"
   ]
  },
  {
   "cell_type": "markdown",
   "metadata": {},
   "source": [
    "## Demo\n",
    "- load dtk file at timestep 1\n",
    "- create more individuals by copying\n",
    "- change age\n",
    "- add infections\n",
    "- https://github.com/tfischle-idmod/SerializedPopulation-Tools"
   ]
  },
  {
   "cell_type": "code",
   "execution_count": 9,
   "metadata": {},
   "outputs": [
    {
     "data": {
      "text/html": [
       "<script type=\"text/javascript\">window.PlotlyConfig = {MathJaxConfig: 'local'};</script><script type=\"text/javascript\">if (window.MathJax) {MathJax.Hub.Config({SVG: {font: \"STIX-Web\"}});}</script><script>requirejs.config({paths: { 'plotly': ['https://cdn.plot.ly/plotly-latest.min']},});if(!window._Plotly) {require(['plotly'],function(plotly) {window._Plotly=plotly;});}</script>"
      ],
      "text/vnd.plotly.v1+html": [
       "<script type=\"text/javascript\">window.PlotlyConfig = {MathJaxConfig: 'local'};</script><script type=\"text/javascript\">if (window.MathJax) {MathJax.Hub.Config({SVG: {font: \"STIX-Web\"}});}</script><script>requirejs.config({paths: { 'plotly': ['https://cdn.plot.ly/plotly-latest.min']},});if(!window._Plotly) {require(['plotly'],function(plotly) {window._Plotly=plotly;});}</script>"
      ]
     },
     "metadata": {},
     "output_type": "display_data"
    }
   ],
   "source": [
    "import sys\n",
    "sys.path.append(\"C:\\\\Users\\\\tfischle\\\\Github\\\\SerializedPopulation-Tools\")\n",
    "import change_serialized_population as csp\n",
    "import pathlib\n",
    "import plotly\n",
    "import plotly.graph_objs as go\n",
    "\n",
    "plotly.offline.init_notebook_mode(connected=True)"
   ]
  },
  {
   "cell_type": "code",
   "execution_count": 10,
   "metadata": {},
   "outputs": [],
   "source": [
    "serialized_file = \"state-00001.dtk\"\n",
    "path = pathlib.PureWindowsPath(r\"C:\\Users\\tfischle\\Desktop\\Eradication_2.21\\output\", serialized_file)\n",
    "\n",
    "ser_pop = csp.SerializedPopulation(path)\n",
    "node_0 = ser_pop.nodes[0]"
   ]
  },
  {
   "cell_type": "code",
   "execution_count": 11,
   "metadata": {},
   "outputs": [
    {
     "data": {
      "application/vnd.plotly.v1+json": {
       "config": {
        "linkText": "Export to plot.ly",
        "plotlyServerURL": "https://plot.ly",
        "showLink": false
       },
       "data": [
        {
         "type": "histogram",
         "uid": "ebe92709-aaed-4f09-8c15-ca57a197ef48",
         "x": [
          37988.8,
          20759.1,
          1593.91,
          14567.1,
          4481.68,
          4730.6,
          15643.7,
          13805.1,
          419.549,
          2462.02,
          349.739,
          5713.91,
          2585.75,
          12925.5,
          26212.1,
          3445.06,
          7030.2,
          38.7369,
          8899.59,
          3196.41,
          17677.9,
          12252.1,
          6943.37,
          2731,
          5420.21,
          4198.85,
          1768.75,
          102.878,
          3696.87,
          3568.05,
          7095.76,
          6575.76,
          345.59,
          8663.25,
          2467.41,
          14890.4,
          8155.02,
          11580.1,
          737.543,
          12000.2,
          9741.55,
          20730.1,
          25408.3,
          26.7996,
          4614.2,
          31759.9,
          8697.05,
          4634.84,
          2945.57,
          4491.95,
          10085.6,
          5955.51,
          3537.46,
          37398,
          9694.21,
          7460.69,
          5168.61,
          1081.2,
          3286.72,
          17248.7,
          3171.51,
          8146.46,
          20188.9,
          7714.31,
          6833.13,
          4649.32,
          9973.99,
          6145.53,
          6106.41,
          2008.45,
          3010.71,
          6637.52,
          1083.17,
          7815.78,
          35053.3,
          14776.1,
          310.663,
          18384.9,
          20107.3,
          18000.5,
          5100.81,
          7568.76,
          14431.6,
          6929.39,
          20335.5,
          12101.1,
          59804.4,
          1517.9,
          16738.3,
          13786.2,
          8581.08,
          2804.69,
          1759.99,
          38529.3,
          1512.42,
          51307.5,
          1517.26,
          26673.1,
          2558.41,
          4844.14
         ]
        }
       ],
       "layout": {
        "bargap": 0.2,
        "bargroupgap": 0.1,
        "title": {
         "text": "m_age"
        },
        "xaxis": {
         "title": {
          "text": "age in days"
         }
        },
        "yaxis": {
         "title": {
          "text": "#individuals"
         }
        }
       }
      },
      "text/html": [
       "<div id=\"b5c5bac2-fdde-4d2c-b43d-d3683b1fac9e\" style=\"height: 525px; width: 100%;\" class=\"plotly-graph-div\"></div><script type=\"text/javascript\">require([\"plotly\"], function(Plotly) { window.PLOTLYENV=window.PLOTLYENV || {};window.PLOTLYENV.BASE_URL=\"https://plot.ly\";\n",
       "if (document.getElementById(\"b5c5bac2-fdde-4d2c-b43d-d3683b1fac9e\")) {\n",
       "    Plotly.newPlot(\"b5c5bac2-fdde-4d2c-b43d-d3683b1fac9e\", [{\"x\": [37988.8, 20759.1, 1593.91, 14567.1, 4481.68, 4730.6, 15643.7, 13805.1, 419.549, 2462.02, 349.739, 5713.91, 2585.75, 12925.5, 26212.1, 3445.06, 7030.2, 38.7369, 8899.59, 3196.41, 17677.9, 12252.1, 6943.37, 2731, 5420.21, 4198.85, 1768.75, 102.878, 3696.87, 3568.05, 7095.76, 6575.76, 345.59, 8663.25, 2467.41, 14890.4, 8155.02, 11580.1, 737.543, 12000.2, 9741.55, 20730.1, 25408.3, 26.7996, 4614.2, 31759.9, 8697.05, 4634.84, 2945.57, 4491.95, 10085.6, 5955.51, 3537.46, 37398, 9694.21, 7460.69, 5168.61, 1081.2, 3286.72, 17248.7, 3171.51, 8146.46, 20188.9, 7714.31, 6833.13, 4649.32, 9973.99, 6145.53, 6106.41, 2008.45, 3010.71, 6637.52, 1083.17, 7815.78, 35053.3, 14776.1, 310.663, 18384.9, 20107.3, 18000.5, 5100.81, 7568.76, 14431.6, 6929.39, 20335.5, 12101.1, 59804.4, 1517.9, 16738.3, 13786.2, 8581.08, 2804.69, 1759.99, 38529.3, 1512.42, 51307.5, 1517.26, 26673.1, 2558.41, 4844.14], \"type\": \"histogram\", \"uid\": \"fb05e588-2d01-41dd-add9-e4d6289aa994\"}], {\"bargap\": 0.2, \"bargroupgap\": 0.1, \"title\": {\"text\": \"m_age\"}, \"xaxis\": {\"title\": {\"text\": \"age in days\"}}, \"yaxis\": {\"title\": {\"text\": \"#individuals\"}}}, {\"showLink\": false, \"linkText\": \"Export to plot.ly\", \"plotlyServerURL\": \"https://plot.ly\"}); \n",
       "}\n",
       "});</script><script type=\"text/javascript\">window.addEventListener(\"resize\", function(){if (document.getElementById(\"b5c5bac2-fdde-4d2c-b43d-d3683b1fac9e\")) {window._Plotly.Plots.resize(document.getElementById(\"b5c5bac2-fdde-4d2c-b43d-d3683b1fac9e\"));};})</script>"
      ],
      "text/vnd.plotly.v1+html": [
       "<div id=\"b5c5bac2-fdde-4d2c-b43d-d3683b1fac9e\" style=\"height: 525px; width: 100%;\" class=\"plotly-graph-div\"></div><script type=\"text/javascript\">require([\"plotly\"], function(Plotly) { window.PLOTLYENV=window.PLOTLYENV || {};window.PLOTLYENV.BASE_URL=\"https://plot.ly\";\n",
       "if (document.getElementById(\"b5c5bac2-fdde-4d2c-b43d-d3683b1fac9e\")) {\n",
       "    Plotly.newPlot(\"b5c5bac2-fdde-4d2c-b43d-d3683b1fac9e\", [{\"x\": [37988.8, 20759.1, 1593.91, 14567.1, 4481.68, 4730.6, 15643.7, 13805.1, 419.549, 2462.02, 349.739, 5713.91, 2585.75, 12925.5, 26212.1, 3445.06, 7030.2, 38.7369, 8899.59, 3196.41, 17677.9, 12252.1, 6943.37, 2731, 5420.21, 4198.85, 1768.75, 102.878, 3696.87, 3568.05, 7095.76, 6575.76, 345.59, 8663.25, 2467.41, 14890.4, 8155.02, 11580.1, 737.543, 12000.2, 9741.55, 20730.1, 25408.3, 26.7996, 4614.2, 31759.9, 8697.05, 4634.84, 2945.57, 4491.95, 10085.6, 5955.51, 3537.46, 37398, 9694.21, 7460.69, 5168.61, 1081.2, 3286.72, 17248.7, 3171.51, 8146.46, 20188.9, 7714.31, 6833.13, 4649.32, 9973.99, 6145.53, 6106.41, 2008.45, 3010.71, 6637.52, 1083.17, 7815.78, 35053.3, 14776.1, 310.663, 18384.9, 20107.3, 18000.5, 5100.81, 7568.76, 14431.6, 6929.39, 20335.5, 12101.1, 59804.4, 1517.9, 16738.3, 13786.2, 8581.08, 2804.69, 1759.99, 38529.3, 1512.42, 51307.5, 1517.26, 26673.1, 2558.41, 4844.14], \"type\": \"histogram\", \"uid\": \"fb05e588-2d01-41dd-add9-e4d6289aa994\"}], {\"bargap\": 0.2, \"bargroupgap\": 0.1, \"title\": {\"text\": \"m_age\"}, \"xaxis\": {\"title\": {\"text\": \"age in days\"}}, \"yaxis\": {\"title\": {\"text\": \"#individuals\"}}}, {\"showLink\": false, \"linkText\": \"Export to plot.ly\", \"plotlyServerURL\": \"https://plot.ly\"}); \n",
       "}\n",
       "});</script><script type=\"text/javascript\">window.addEventListener(\"resize\", function(){if (document.getElementById(\"b5c5bac2-fdde-4d2c-b43d-d3683b1fac9e\")) {window._Plotly.Plots.resize(document.getElementById(\"b5c5bac2-fdde-4d2c-b43d-d3683b1fac9e\"));};})</script>"
      ]
     },
     "metadata": {},
     "output_type": "display_data"
    }
   ],
   "source": [
    "# plot m_age \n",
    "ind_values = csp.getPropertyValues(node_0.individualHumans, \"m_age\")\n",
    "\n",
    "layout = go.Layout( title=\"m_age\", \n",
    "                           bargap=0.2, bargroupgap=0.1, \n",
    "                           xaxis=dict(title=\"age in days\"),\n",
    "                           yaxis=dict(title=\"#individuals\"))\n",
    "\n",
    "data = [go.Histogram(x=ind_values)]\n",
    "plotly.offline.iplot (\n",
    "    { 'data': data, \n",
    "      'layout': layout}\n",
    ")"
   ]
  },
  {
   "cell_type": "code",
   "execution_count": 12,
   "metadata": {},
   "outputs": [
    {
     "data": {
      "application/vnd.plotly.v1+json": {
       "config": {
        "linkText": "Export to plot.ly",
        "plotlyServerURL": "https://plot.ly",
        "showLink": false
       },
       "data": [
        {
         "type": "histogram",
         "uid": "afda4cdf-26ab-4b9e-9f7d-eb8b8604f3e7",
         "x": []
        }
       ],
       "layout": {
        "bargap": 0.2,
        "bargroupgap": 0.1,
        "title": {
         "text": "m_age"
        },
        "xaxis": {
         "title": {
          "text": "age in days"
         }
        },
        "yaxis": {
         "title": {
          "text": "#individuals"
         }
        }
       }
      },
      "text/html": [
       "<div id=\"6e72b27e-cc2c-4e50-9a86-caeb9480214d\" style=\"height: 525px; width: 100%;\" class=\"plotly-graph-div\"></div><script type=\"text/javascript\">require([\"plotly\"], function(Plotly) { window.PLOTLYENV=window.PLOTLYENV || {};window.PLOTLYENV.BASE_URL=\"https://plot.ly\";\n",
       "if (document.getElementById(\"6e72b27e-cc2c-4e50-9a86-caeb9480214d\")) {\n",
       "    Plotly.newPlot(\"6e72b27e-cc2c-4e50-9a86-caeb9480214d\", [{\"x\": [], \"type\": \"histogram\", \"uid\": \"6940bdbd-296e-4320-a0bf-cbacff09000d\"}], {\"bargap\": 0.2, \"bargroupgap\": 0.1, \"title\": {\"text\": \"m_age\"}, \"xaxis\": {\"title\": {\"text\": \"age in days\"}}, \"yaxis\": {\"title\": {\"text\": \"#individuals\"}}}, {\"showLink\": false, \"linkText\": \"Export to plot.ly\", \"plotlyServerURL\": \"https://plot.ly\"}); \n",
       "}\n",
       "});</script><script type=\"text/javascript\">window.addEventListener(\"resize\", function(){if (document.getElementById(\"6e72b27e-cc2c-4e50-9a86-caeb9480214d\")) {window._Plotly.Plots.resize(document.getElementById(\"6e72b27e-cc2c-4e50-9a86-caeb9480214d\"));};})</script>"
      ],
      "text/vnd.plotly.v1+html": [
       "<div id=\"6e72b27e-cc2c-4e50-9a86-caeb9480214d\" style=\"height: 525px; width: 100%;\" class=\"plotly-graph-div\"></div><script type=\"text/javascript\">require([\"plotly\"], function(Plotly) { window.PLOTLYENV=window.PLOTLYENV || {};window.PLOTLYENV.BASE_URL=\"https://plot.ly\";\n",
       "if (document.getElementById(\"6e72b27e-cc2c-4e50-9a86-caeb9480214d\")) {\n",
       "    Plotly.newPlot(\"6e72b27e-cc2c-4e50-9a86-caeb9480214d\", [{\"x\": [], \"type\": \"histogram\", \"uid\": \"6940bdbd-296e-4320-a0bf-cbacff09000d\"}], {\"bargap\": 0.2, \"bargroupgap\": 0.1, \"title\": {\"text\": \"m_age\"}, \"xaxis\": {\"title\": {\"text\": \"age in days\"}}, \"yaxis\": {\"title\": {\"text\": \"#individuals\"}}}, {\"showLink\": false, \"linkText\": \"Export to plot.ly\", \"plotlyServerURL\": \"https://plot.ly\"}); \n",
       "}\n",
       "});</script><script type=\"text/javascript\">window.addEventListener(\"resize\", function(){if (document.getElementById(\"6e72b27e-cc2c-4e50-9a86-caeb9480214d\")) {window._Plotly.Plots.resize(document.getElementById(\"6e72b27e-cc2c-4e50-9a86-caeb9480214d\"));};})</script>"
      ]
     },
     "metadata": {},
     "output_type": "display_data"
    }
   ],
   "source": [
    "# plot \n",
    "fct = lambda ind: len(ind[\"infections\"]) > 0\n",
    "ind_values = csp.getPropertyValues(node_0.individualHumans, \"m_age\", filter_fct=fct)\n",
    "\n",
    "data = [go.Histogram(x=ind_values)]\n",
    "plotly.offline.iplot ({ 'data': data, 'layout': layout})"
   ]
  },
  {
   "cell_type": "code",
   "execution_count": 17,
   "metadata": {},
   "outputs": [
    {
     "name": "stdout",
     "output_type": "stream",
     "text": [
      "{\n",
      "    \"__class__\": \"Infection\",\n",
      "    \"suid\": {\n",
      "        \"id\": 31\n",
      "    },\n",
      "    \"duration\": 7,\n",
      "    \"total_duration\": 9.7328,\n",
      "    \"incubation_timer\": 0,\n",
      "    \"infectious_timer\": 9.7328,\n",
      "    \"infectiousness\": 3.5,\n",
      "    \"infectiousnessByRoute\": [],\n",
      "    \"StateChange\": 0,\n",
      "    \"infection_strain\": {\n",
      "        \"cladeID\": 0,\n",
      "        \"geneticID\": 0\n",
      "    },\n",
      "    \"m_is_symptomatic\": 1,\n",
      "    \"m_is_newly_symptomatic\": 0\n",
      "}\n"
     ]
    }
   ],
   "source": [
    "#print infection\n",
    "import json\n",
    "path_infection = pathlib.PureWindowsPath(r\"C:\\Users\\tfischle\\Desktop\\Eradication_2.21\\infection.json\")\n",
    "with open(path_infection, \"r\") as file:\n",
    "    infection = json.load(file)\n",
    "    print(json.dumps(infection, indent=4))"
   ]
  },
  {
   "cell_type": "code",
   "execution_count": 5,
   "metadata": {},
   "outputs": [],
   "source": [
    "# load infection and append it to individuals\n",
    "ser_pop.addInfection(node_0,path_infection, lambda ind: ind[\"m_age\"] > 30000)"
   ]
  },
  {
   "cell_type": "code",
   "execution_count": 6,
   "metadata": {},
   "outputs": [
    {
     "data": {
      "application/vnd.plotly.v1+json": {
       "config": {
        "linkText": "Export to plot.ly",
        "plotlyServerURL": "https://plot.ly",
        "showLink": false
       },
       "data": [
        {
         "type": "histogram",
         "uid": "7ad3b57f-cfa1-4dd7-b662-9efc98f3c9c9",
         "x": [
          37988.8,
          31759.9,
          37398,
          35053.3,
          59804.4,
          38529.3,
          51307.5
         ]
        }
       ],
       "layout": {
        "bargap": 0.2,
        "bargroupgap": 0.1,
        "title": {
         "text": "m_age"
        },
        "xaxis": {
         "title": {
          "text": "age in days"
         }
        },
        "yaxis": {
         "title": {
          "text": "#individuals"
         }
        }
       }
      },
      "text/html": [
       "<div id=\"f75c9a53-fe97-42e0-8b90-2e9f2a6a7c52\" style=\"height: 525px; width: 100%;\" class=\"plotly-graph-div\"></div><script type=\"text/javascript\">require([\"plotly\"], function(Plotly) { window.PLOTLYENV=window.PLOTLYENV || {};window.PLOTLYENV.BASE_URL=\"https://plot.ly\";\n",
       "if (document.getElementById(\"f75c9a53-fe97-42e0-8b90-2e9f2a6a7c52\")) {\n",
       "    Plotly.newPlot(\"f75c9a53-fe97-42e0-8b90-2e9f2a6a7c52\", [{\"x\": [37988.8, 31759.9, 37398, 35053.3, 59804.4, 38529.3, 51307.5], \"type\": \"histogram\", \"uid\": \"9e94d405-73ff-417d-bf16-622879d790fd\"}], {\"bargap\": 0.2, \"bargroupgap\": 0.1, \"title\": {\"text\": \"m_age\"}, \"xaxis\": {\"title\": {\"text\": \"age in days\"}}, \"yaxis\": {\"title\": {\"text\": \"#individuals\"}}}, {\"showLink\": false, \"linkText\": \"Export to plot.ly\", \"plotlyServerURL\": \"https://plot.ly\"}); \n",
       "}\n",
       "});</script><script type=\"text/javascript\">window.addEventListener(\"resize\", function(){if (document.getElementById(\"f75c9a53-fe97-42e0-8b90-2e9f2a6a7c52\")) {window._Plotly.Plots.resize(document.getElementById(\"f75c9a53-fe97-42e0-8b90-2e9f2a6a7c52\"));};})</script>"
      ],
      "text/vnd.plotly.v1+html": [
       "<div id=\"f75c9a53-fe97-42e0-8b90-2e9f2a6a7c52\" style=\"height: 525px; width: 100%;\" class=\"plotly-graph-div\"></div><script type=\"text/javascript\">require([\"plotly\"], function(Plotly) { window.PLOTLYENV=window.PLOTLYENV || {};window.PLOTLYENV.BASE_URL=\"https://plot.ly\";\n",
       "if (document.getElementById(\"f75c9a53-fe97-42e0-8b90-2e9f2a6a7c52\")) {\n",
       "    Plotly.newPlot(\"f75c9a53-fe97-42e0-8b90-2e9f2a6a7c52\", [{\"x\": [37988.8, 31759.9, 37398, 35053.3, 59804.4, 38529.3, 51307.5], \"type\": \"histogram\", \"uid\": \"9e94d405-73ff-417d-bf16-622879d790fd\"}], {\"bargap\": 0.2, \"bargroupgap\": 0.1, \"title\": {\"text\": \"m_age\"}, \"xaxis\": {\"title\": {\"text\": \"age in days\"}}, \"yaxis\": {\"title\": {\"text\": \"#individuals\"}}}, {\"showLink\": false, \"linkText\": \"Export to plot.ly\", \"plotlyServerURL\": \"https://plot.ly\"}); \n",
       "}\n",
       "});</script><script type=\"text/javascript\">window.addEventListener(\"resize\", function(){if (document.getElementById(\"f75c9a53-fe97-42e0-8b90-2e9f2a6a7c52\")) {window._Plotly.Plots.resize(document.getElementById(\"f75c9a53-fe97-42e0-8b90-2e9f2a6a7c52\"));};})</script>"
      ]
     },
     "metadata": {},
     "output_type": "display_data"
    }
   ],
   "source": [
    "# plot \n",
    "fct = lambda ind: len(ind[\"infections\"]) > 0\n",
    "ind_values = csp.getPropertyValues(node_0.individualHumans, \"m_age\", filter_fct=fct)\n",
    "\n",
    "data = [go.Histogram(x=ind_values)]\n",
    "plotly.offline.iplot ({ 'data': data, 'layout': layout})"
   ]
  },
  {
   "cell_type": "markdown",
   "metadata": {},
   "source": [
    "Note: reading writing is on node level"
   ]
  },
  {
   "cell_type": "code",
   "execution_count": 7,
   "metadata": {},
   "outputs": [],
   "source": [
    "serialized_output_file = \"dtk-added_infections.dtk\"\n",
    "output_path = pathlib.PureWindowsPath(r\"C:\\Users\\tfischle\\Desktop\\Eradication_2.21\", serialized_output_file)\n",
    "ser_pop.close()\n",
    "ser_pop.write(output_path)"
   ]
  },
  {
   "cell_type": "markdown",
   "metadata": {},
   "source": [
    "## Current Restrictions\n",
    "- Individuals cannot be \"created\" only copied\n",
    "- Infections cannot be \"created\" only copied\n",
    "- "
   ]
  },
  {
   "cell_type": "code",
   "execution_count": null,
   "metadata": {},
   "outputs": [],
   "source": [
    "\n",
    "\n",
    "Use Cases:\n",
    "    - Generate (part of) a population with certain attributes\n",
    "    - Query Individuals with certain attributes\n",
    "        - Follow individuals with certain attributes over a longer time and change attributes\n",
    "    - Update to next dtk version\n",
    "    \n",
    "Looks like there is a need for more high level functions\n",
    "- Edward mentioned table with node_id and attributes an individual should have at this node\n",
    "- make file compatible with newer dtk version\n",
    "\n",
    "- Researchers will be mainly interacting with individuals \n",
    "- Pandas is good to display, filter and manipulate low level data\n",
    "    - \n",
    "- Create a population with certain attributes\n",
    "    - Use individual from SP file as source\n",
    "        - e.g. 1000 copies of individual [23], 2000 copies of individual [42], etc\n",
    "    - \n",
    "    \n",
    "    \n",
    "Workflow\n",
    "1) use pandas to display and filter data\n",
    "    - How to display/access nested data\n",
    "2) copy individuals, change attributes, add to population \n",
    "3) save\n",
    "\n",
    "1) use pandas to display and filter data\n",
    "2) select some individuals as  source\n",
    "3) create population\n",
    "4) replace (all) existing individuals\n",
    "3) save\n",
    "\n"
   ]
  },
  {
   "cell_type": "code",
   "execution_count": null,
   "metadata": {},
   "outputs": [],
   "source": [
    "## Change a Serialized Population\n",
    "import matplotlib.pyplot as plt\n",
    "from change_serialized_population import *\n",
    "import plotly\n",
    "import plotly.graph_objs as go\n",
    "import utils\n",
    "\n",
    "plotly.offline.init_notebook_mode(connected=True)\n",
    "\n",
    "# load a serialized population file\n",
    "path = pathlib.PureWindowsPath(r\"C:\\Users\\tfischle\\Github\\DtkTrunk_master\\Regression\\Generic\\13_Generic_Individual_Properties\")\n",
    "serialized_file = \"state-00015.dtk\"\n",
    "\n",
    "ser_pop = SerializedPopulation(str(path) + '/' + serialized_file)\n",
    "node0 = ser_pop.nodes[0]"
   ]
  },
  {
   "cell_type": "code",
   "execution_count": null,
   "metadata": {
    "scrolled": true
   },
   "outputs": [],
   "source": [
    "df = pandas.io.json.json_normalize(ser_pop.nodes[0].individualHumans)\n",
    "df.head()['infections']"
   ]
  },
  {
   "cell_type": "code",
   "execution_count": null,
   "metadata": {},
   "outputs": [],
   "source": [
    "df = pandas.io.json.json_normalize(ser_pop.nodes[0].individualHumans,'infections')\n",
    "df.tail()"
   ]
  },
  {
   "cell_type": "code",
   "execution_count": null,
   "metadata": {},
   "outputs": [],
   "source": [
    "df = pandas.DataFrame(ser_pop.nodes[0].individualHumans)\n",
    "df = df.assign(temp_f = pandas.DataFrame(i for i in df['infections']))\n",
    "\n",
    "df.to_html(\"table.html\")\n",
    "#df.head()"
   ]
  },
  {
   "cell_type": "code",
   "execution_count": null,
   "metadata": {},
   "outputs": [],
   "source": [
    "#df = pandas.io.json.json_normalize(ser_pop.nodes[0].individualHumans,'infections',['m_age'])\n",
    "#df = pandas.io.json.json_normalize(ser_pop.nodes[0].individualHumans)\n",
    "#df = df[df.m_age < 100]\n",
    "#df.to_html(\"table.html\")\n",
    "df = pandas.DataFrame(ser_pop.nodes[0].individualHumans)\n",
    "all_names_index = df.set_index(['m_age','infections']).sort_index()\n",
    "all_names_index\n"
   ]
  },
  {
   "cell_type": "markdown",
   "metadata": {},
   "source": [
    "# Plot Number of Individuals, Age"
   ]
  },
  {
   "cell_type": "code",
   "execution_count": null,
   "metadata": {},
   "outputs": [],
   "source": [
    "# plot m_age \n",
    "ind_values = getPropertyValues(node0.individualHumans, \"m_age\")\n",
    "\n",
    "data = [go.Histogram(x=ind_values)]\n",
    "plotly.offline.iplot ({ 'data': data, 'layout': go.Layout( title=\"m_age\", bargap=0.2, bargroupgap=0.1)})"
   ]
  },
  {
   "cell_type": "markdown",
   "metadata": {},
   "source": [
    "# Plot Number of Individuals, Gender"
   ]
  },
  {
   "cell_type": "code",
   "execution_count": null,
   "metadata": {},
   "outputs": [],
   "source": [
    "ind_values = getPropertyValues(node0.individualHumans, \"m_gender\")\n",
    "\n",
    "data = [go.Histogram(x=ind_values)]\n",
    "plotly.offline.iplot ({ 'data': data, 'layout': go.Layout( title=\"m_age\", bargap=0.2, bargroupgap=0.1)})"
   ]
  },
  {
   "cell_type": "markdown",
   "metadata": {},
   "source": [
    "# Only Plot Age of Individuals with gender = 0"
   ]
  },
  {
   "cell_type": "code",
   "execution_count": null,
   "metadata": {},
   "outputs": [],
   "source": [
    "fct = lambda ind: ind[\"m_gender\"] == 0\n",
    "ind_values = getPropertyValues(node0.individualHumans, \"m_age\", filter_fct=fct)\n",
    "\n",
    "data = [go.Histogram(x=ind_values)]\n",
    "plotly.offline.iplot ({ 'data': data, 'layout': go.Layout( title=\"m_age\", bargap=0.2, bargroupgap=0.1)})"
   ]
  },
  {
   "cell_type": "markdown",
   "metadata": {},
   "source": [
    "# Age of Individuals with more than one infection"
   ]
  },
  {
   "cell_type": "code",
   "execution_count": null,
   "metadata": {},
   "outputs": [],
   "source": [
    "fct = lambda ind: len(ind[\"infections\"]) >= 1\n",
    "ind_values = getPropertyValues(node0.individualHumans, \"m_age\", filter_fct=fct)\n",
    "\n",
    "data = [go.Histogram(x=ind_values)]\n",
    "plotly.offline.iplot ({ 'data': data, 'layout': go.Layout( title=\"m_age\", bargap=0.2, bargroupgap=0.1)})"
   ]
  },
  {
   "cell_type": "markdown",
   "metadata": {},
   "source": [
    "# Count number of Infections"
   ]
  },
  {
   "cell_type": "code",
   "execution_count": null,
   "metadata": {
    "scrolled": true
   },
   "outputs": [],
   "source": [
    "# plot \n",
    "select_fct = lambda ind: len(ind[\"infections\"])\n",
    "filter_fct = lambda ind: True\n",
    "ind_values = getPropertyValues2(node0.individualHumans, select_fct = select_fct, filter_fct=filter_fct)\n",
    "\n",
    "data = [go.Histogram(x=ind_values)]\n",
    "plotly.offline.iplot ({ 'data': data, 'layout': go.Layout( title=\"m_age\", bargap=0.2, bargroupgap=0.1)})"
   ]
  },
  {
   "cell_type": "markdown",
   "metadata": {},
   "source": [
    "# Add Infections"
   ]
  },
  {
   "cell_type": "code",
   "execution_count": null,
   "metadata": {
    "scrolled": true
   },
   "outputs": [],
   "source": [
    "new_infection = createInfection(\"Generic\", ser_pop.getNextInfectionSuid())\n",
    "print(new_infection)\n",
    "add(node0.individualHumans, \"infections\", new_infection, lambda ind: ind[\"m_age\"] > 40000)\n",
    "\n",
    "select_fct = lambda ind: len(ind[\"infections\"])\n",
    "ind_values = getPropertyValues2(node0.individualHumans, select_fct = select_fct)\n",
    "\n",
    "data = [go.Histogram(x=ind_values)]\n",
    "plotly.offline.iplot ({ 'data': data, 'layout': go.Layout( title=\"m_age\", bargap=0.2, bargroupgap=0.1)})"
   ]
  },
  {
   "cell_type": "markdown",
   "metadata": {},
   "source": [
    "# Find"
   ]
  },
  {
   "cell_type": "code",
   "execution_count": null,
   "metadata": {
    "scrolled": false
   },
   "outputs": [],
   "source": [
    "print(find(\"age\", ser_pop.nodes))"
   ]
  },
  {
   "cell_type": "markdown",
   "metadata": {},
   "source": [
    "# Change Age Distribution"
   ]
  },
  {
   "cell_type": "code",
   "execution_count": null,
   "metadata": {},
   "outputs": [],
   "source": [
    "fct = randomGauss   # random.gauss(1000, 10)\n",
    "distribution = utils.createDistribution(\"m_age\", len(node0.individualHumans), fct)\n",
    "setAttributes(distribution, node0.individualHumans)\n",
    "\n",
    "ind_values = getPropertyValues(node0.individualHumans, \"m_age\")\n",
    "\n",
    "data = [go.Histogram(x=ind_values)]\n",
    "plotly.offline.iplot ({ 'data': data, 'layout': go.Layout( title=\"m_age\", bargap=0.2, bargroupgap=0.1)})"
   ]
  },
  {
   "cell_type": "code",
   "execution_count": null,
   "metadata": {},
   "outputs": [],
   "source": [
    "fct = randomGauss   # random.gauss(1000, 10)\n",
    "filter_fct = lambda ind: ind.m_age > 1000\n",
    "attribute_age = {\"m_age\": 700 }\n",
    "\n",
    "setAttribute(attribute_age, node0.individualHumans, filter_fct = filter_fct)\n",
    "\n",
    "ind_values = getPropertyValues(node0.individualHumans, \"m_age\")\n",
    "\n",
    "data = [go.Histogram(x=ind_values)]\n",
    "plotly.offline.iplot ({ 'data': data, 'layout': go.Layout( title=\"m_age\", bargap=0.2, bargroupgap=0.1)})"
   ]
  },
  {
   "cell_type": "markdown",
   "metadata": {},
   "source": [
    "# Close and Save"
   ]
  },
  {
   "cell_type": "code",
   "execution_count": null,
   "metadata": {},
   "outputs": [],
   "source": [
    "ser_pop.close()\n",
    "ser_pop.write()"
   ]
  }
 ],
 "metadata": {
  "kernelspec": {
   "display_name": "Python 3",
   "language": "python",
   "name": "python3"
  },
  "language_info": {
   "codemirror_mode": {
    "name": "ipython",
    "version": 3
   },
   "file_extension": ".py",
   "mimetype": "text/x-python",
   "name": "python",
   "nbconvert_exporter": "python",
   "pygments_lexer": "ipython3",
   "version": "3.6.5"
  }
 },
 "nbformat": 4,
 "nbformat_minor": 2
}
